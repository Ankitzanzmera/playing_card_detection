{
 "cells": [
  {
   "cell_type": "code",
   "execution_count": 1,
   "metadata": {},
   "outputs": [
    {
     "data": {
      "text/plain": [
       "'f:\\\\ml_projects\\\\playing_card_detection\\\\notbooks'"
      ]
     },
     "execution_count": 1,
     "metadata": {},
     "output_type": "execute_result"
    }
   ],
   "source": [
    "import os\n",
    "%pwd\n"
   ]
  },
  {
   "cell_type": "code",
   "execution_count": 2,
   "metadata": {},
   "outputs": [
    {
     "data": {
      "text/plain": [
       "'f:\\\\ml_projects\\\\playing_card_detection'"
      ]
     },
     "execution_count": 2,
     "metadata": {},
     "output_type": "execute_result"
    }
   ],
   "source": [
    "os.chdir(\"../\")\n",
    "%pwd"
   ]
  },
  {
   "cell_type": "code",
   "execution_count": 3,
   "metadata": {},
   "outputs": [],
   "source": [
    "from dataclasses import dataclass\n",
    "from pathlib import Path\n",
    "\n",
    "@dataclass(frozen=True)\n",
    "class DataValidationConfig:\n",
    "    root_dir:Path\n",
    "    data_validation_status_file:Path\n",
    "    data_validation_required_file:list\n",
    "    unzip_dir:Path"
   ]
  },
  {
   "cell_type": "code",
   "execution_count": 4,
   "metadata": {},
   "outputs": [],
   "source": [
    "from Playing_card_detection.constants import *\n",
    "from Playing_card_detection.utils.common import read_yaml_file,create_directories\n",
    "from pathlib import Path\n",
    "\n",
    "class ConfigurationManager():\n",
    "    def __init__(self,config_filepath = CONFIG_FILEPATH) -> None:\n",
    "        self.config = read_yaml_file(config_filepath)\n",
    "        create_directories([self.config.artifacts_root])\n",
    "\n",
    "    def get_data_validation_config(self) -> DataValidationConfig:\n",
    "        temp_config = self.config.data_validation\n",
    "        create_directories([temp_config.root_dir])\n",
    "\n",
    "        data_validation_config = DataValidationConfig(\n",
    "            root_dir = Path(temp_config.root_dir),\n",
    "            data_validation_status_file = Path(temp_config.data_validation_status_file),\n",
    "            data_validation_required_file = temp_config.data_validation_required_file,\n",
    "            unzip_dir = Path(self.config.data_ingestion.unzip_dir)\n",
    "        )\n",
    "        return data_validation_config"
   ]
  },
  {
   "cell_type": "code",
   "execution_count": 10,
   "metadata": {},
   "outputs": [],
   "source": [
    "from Playing_card_detection.utils.exception import CustomException\n",
    "from Playing_card_detection.utils.logger import logger\n",
    "import os,sys\n",
    "\n",
    "class DataValidation:\n",
    "    def __init__(self,config:DataValidationConfig) -> None:\n",
    "        self.config = config\n",
    "    \n",
    "    def do_validation(self):\n",
    "        try:\n",
    "            validation_status = None\n",
    "            file_that_exist = os.listdir(self.config.unzip_dir)\n",
    "            required_files_list = self.config.data_validation_required_file\n",
    "            for file in required_files_list:\n",
    "                if file not in file_that_exist:\n",
    "                    validation_status = False\n",
    "                    with open(self.config.data_validation_status_file,'w') as f:\n",
    "                        f.write(f\"Validation Status == {validation_status}\")\n",
    "                else:\n",
    "                    validation_status = True\n",
    "                    with open(self.config.data_validation_status_file,'w') as f:\n",
    "                        f.write(f\"Validation Status == {validation_status}\")\n",
    "            if validation_status:\n",
    "                logger.info(\"Data Validation Succeed\")\n",
    "            else:\n",
    "                logger.info(\"Data Validation Failed\")\n",
    "        except Exception as e:\n",
    "            raise CustomException(e,sys)"
   ]
  },
  {
   "cell_type": "code",
   "execution_count": 13,
   "metadata": {},
   "outputs": [
    {
     "name": "stdout",
     "output_type": "stream",
     "text": [
      "[ 2024-01-07 10:10:55,303 ] - 26 - 666175905 - Data Validation Failed\n"
     ]
    }
   ],
   "source": [
    "try:\n",
    "    config = ConfigurationManager()\n",
    "    data_validation_config = config.get_data_validation_config()\n",
    "    data_validation = DataValidation(data_validation_config)\n",
    "    data_validation.do_validation()\n",
    "except Exception as e:\n",
    "    raise CustomException(e,sys)"
   ]
  },
  {
   "cell_type": "code",
   "execution_count": null,
   "metadata": {},
   "outputs": [],
   "source": []
  }
 ],
 "metadata": {
  "kernelspec": {
   "display_name": "Python 3",
   "language": "python",
   "name": "python3"
  },
  "language_info": {
   "codemirror_mode": {
    "name": "ipython",
    "version": 3
   },
   "file_extension": ".py",
   "mimetype": "text/x-python",
   "name": "python",
   "nbconvert_exporter": "python",
   "pygments_lexer": "ipython3",
   "version": "3.7.16"
  }
 },
 "nbformat": 4,
 "nbformat_minor": 2
}
