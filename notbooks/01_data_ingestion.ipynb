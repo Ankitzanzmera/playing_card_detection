{
 "cells": [
  {
   "cell_type": "code",
   "execution_count": 1,
   "metadata": {},
   "outputs": [
    {
     "data": {
      "text/plain": [
       "'f:\\\\ml_projects\\\\playing_card_detection\\\\notbooks'"
      ]
     },
     "execution_count": 1,
     "metadata": {},
     "output_type": "execute_result"
    }
   ],
   "source": [
    "import os\n",
    "%pwd"
   ]
  },
  {
   "cell_type": "code",
   "execution_count": 2,
   "metadata": {},
   "outputs": [
    {
     "data": {
      "text/plain": [
       "'f:\\\\ml_projects\\\\playing_card_detection'"
      ]
     },
     "execution_count": 2,
     "metadata": {},
     "output_type": "execute_result"
    }
   ],
   "source": [
    "os.chdir(\"../\")\n",
    "%pwd"
   ]
  },
  {
   "cell_type": "code",
   "execution_count": 3,
   "metadata": {},
   "outputs": [],
   "source": [
    "from dataclasses import dataclass\n",
    "from pathlib import Path\n",
    "\n",
    "@dataclass(frozen=True)\n",
    "class DataIngestionConfig:\n",
    "    root_dir:Path\n",
    "    source:str\n",
    "    local_data_file:Path\n",
    "    unzip_dir:Path"
   ]
  },
  {
   "cell_type": "code",
   "execution_count": 4,
   "metadata": {},
   "outputs": [],
   "source": [
    "from Playing_card_detection.constants import *\n",
    "from Playing_card_detection.utils.common import create_directories,read_yaml_file\n",
    "\n",
    "class ConfigurationManager:\n",
    "    def __init__(self,confi_filepath = CONFIG_FILEPATH) -> None:\n",
    "        self.config = read_yaml_file(confi_filepath)\n",
    "        create_directories([self.config.artifacts_root])\n",
    "\n",
    "    def get_data_ingestion_config(self) -> DataIngestionConfig:\n",
    "        temp_config = self.config.data_ingestion\n",
    "        create_directories([temp_config.root_dir])\n",
    "\n",
    "        data_ingestion_config = DataIngestionConfig(\n",
    "            root_dir=temp_config.root_dir,\n",
    "            source= temp_config.source,\n",
    "            local_data_file = temp_config.local_data_file,\n",
    "            unzip_dir = temp_config.unzip_dir\n",
    "        )\n",
    "\n",
    "        return data_ingestion_config"
   ]
  },
  {
   "cell_type": "code",
   "execution_count": 5,
   "metadata": {},
   "outputs": [],
   "source": [
    "import gdown\n",
    "import os,sys\n",
    "from zipfile import ZipFile\n",
    "from Playing_card_detection.utils.exception import CustomException\n",
    "from Playing_card_detection.utils.logger import logger"
   ]
  },
  {
   "cell_type": "code",
   "execution_count": 11,
   "metadata": {},
   "outputs": [],
   "source": [
    "class DataIngestion:\n",
    "    def __init__(self,config:DataIngestionConfig) -> None:\n",
    "        self.config = config\n",
    "    \n",
    "    def download_file(self):\n",
    "        try:\n",
    "            if not os.path.exists(self.config.local_data_file):\n",
    "                gdown.download(self.config.source,str(self.config.local_data_file))\n",
    "                logger.info(\"Zip File Downloaded Successfully\")\n",
    "            else:\n",
    "                logger.info(\"Zip File Already Existed\")\n",
    "        except Exception as e:\n",
    "            raise CustomException(e,sys)\n",
    "        \n",
    "    def extract_file(self):\n",
    "        try:\n",
    "            if os.path.exists(self.config.unzip_dir):\n",
    "                logger.info(\"Zip File Is Already Extracted\")\n",
    "            else:\n",
    "                with ZipFile(self.config.local_data_file,\"r\") as zip_ref:\n",
    "                    zip_ref.extractall(self.config.unzip_dir)\n",
    "                logger.info(\"Zip File Extracted Successfully\")\n",
    "        except Exception as e:\n",
    "            raise CustomException(e,sys)"
   ]
  },
  {
   "cell_type": "code",
   "execution_count": 12,
   "metadata": {},
   "outputs": [
    {
     "name": "stderr",
     "output_type": "stream",
     "text": [
      "Downloading...\n",
      "From (uriginal): https://drive.google.com/uc?id=14GfObNxeUxZzDnb3PNuE-_r98Yn-GC9T\n",
      "From (redirected): https://drive.google.com/uc?id=14GfObNxeUxZzDnb3PNuE-_r98Yn-GC9T&confirm=t&uuid=c8dc6082-8958-4cb5-9560-82ec0d951753\n",
      "To: f:\\ml_projects\\playing_card_detection\\artifacts\\data_ingestion\\data.zip\n",
      "100%|██████████| 706M/706M [04:30<00:00, 2.61MB/s]"
     ]
    },
    {
     "name": "stdout",
     "output_type": "stream",
     "text": [
      "[ 2024-01-06 20:05:51,080 ] - 9 - 3089285936 - Zip File Downloaded Successfully\n"
     ]
    },
    {
     "name": "stderr",
     "output_type": "stream",
     "text": [
      "\n"
     ]
    },
    {
     "name": "stdout",
     "output_type": "stream",
     "text": [
      "[ 2024-01-06 20:13:21,420 ] - 22 - 3089285936 - Zip File Extracted Successfully\n"
     ]
    },
    {
     "ename": "",
     "evalue": "",
     "output_type": "error",
     "traceback": [
      "\u001b[1;31mThe Kernel crashed while executing code in the the current cell or a previous cell. Please review the code in the cell(s) to identify a possible cause of the failure. Click <a href='https://aka.ms/vscodeJupyterKernelCrash'>here</a> for more info. View Jupyter <a href='command:jupyter.viewOutput'>log</a> for further details."
     ]
    }
   ],
   "source": [
    "try:\n",
    "    config = ConfigurationManager()\n",
    "    data_ingestion_config = config.get_data_ingestion_config()\n",
    "    data_ingestion = DataIngestion(data_ingestion_config)\n",
    "    data_ingestion.download_file()\n",
    "    data_ingestion.extract_file()\n",
    "except Exception as e:\n",
    "    raise CustomException(e,sys)"
   ]
  }
 ],
 "metadata": {
  "kernelspec": {
   "display_name": "Python 3",
   "language": "python",
   "name": "python3"
  },
  "language_info": {
   "codemirror_mode": {
    "name": "ipython",
    "version": 3
   },
   "file_extension": ".py",
   "mimetype": "text/x-python",
   "name": "python",
   "nbconvert_exporter": "python",
   "pygments_lexer": "ipython3",
   "version": "3.7.16"
  }
 },
 "nbformat": 4,
 "nbformat_minor": 2
}
