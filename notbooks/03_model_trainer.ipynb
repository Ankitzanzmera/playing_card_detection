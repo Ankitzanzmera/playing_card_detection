{
 "cells": [
  {
   "cell_type": "code",
   "execution_count": 1,
   "metadata": {},
   "outputs": [
    {
     "data": {
      "text/plain": [
       "'f:\\\\ml_projects\\\\playing_card_detection\\\\notbooks'"
      ]
     },
     "execution_count": 1,
     "metadata": {},
     "output_type": "execute_result"
    }
   ],
   "source": [
    "import os\n",
    "%pwd"
   ]
  },
  {
   "cell_type": "code",
   "execution_count": 2,
   "metadata": {},
   "outputs": [
    {
     "data": {
      "text/plain": [
       "'f:\\\\ml_projects\\\\playing_card_detection'"
      ]
     },
     "execution_count": 2,
     "metadata": {},
     "output_type": "execute_result"
    }
   ],
   "source": [
    "os.chdir(\"../\")\n",
    "%pwd"
   ]
  },
  {
   "cell_type": "code",
   "execution_count": 3,
   "metadata": {},
   "outputs": [],
   "source": [
    "from dataclasses import dataclass\n",
    "from pathlib import Path\n",
    "\n",
    "@dataclass(frozen=True)\n",
    "class ModelTrainerConfig:\n",
    "    root_dir:Path\n",
    "    pretrained_model_weight_name: str\n",
    "    dataset_yaml_file: Path\n",
    "    EPOCHS: int\n",
    "    BATCH_SIZE: int"
   ]
  },
  {
   "cell_type": "code",
   "execution_count": 14,
   "metadata": {},
   "outputs": [],
   "source": [
    "from Playing_card_detection.constants import *\n",
    "from Playing_card_detection.utils.common import read_yaml_file,create_directories\n",
    "\n",
    "class ConfigurationManager:\n",
    "    def __init__(self,config_filepath = CONFIG_FILEPATH):\n",
    "        self.config = read_yaml_file(CONFIG_FILEPATH)\n",
    "        create_directories([self.config.artifacts_root])\n",
    "\n",
    "    def get_model_trainer_config(self) -> ModelTrainerConfig:\n",
    "        temp_config = self.config.model_trainer\n",
    "        create_directories([temp_config.root_dir])\n",
    "\n",
    "        model_trainer_config = ModelTrainerConfig(\n",
    "            root_dir = temp_config.root_dir,\n",
    "            pretrained_model_weight_name = temp_config.model_pretrained_weight_name,\n",
    "            dataset_yaml_file = temp_config.dataset_yaml_file,\n",
    "            EPOCHS = temp_config.EPOCHS,\n",
    "            BATCH_SIZE = temp_config.BATCH_SIZE\n",
    "        )\n",
    "\n",
    "        return model_trainer_config"
   ]
  },
  {
   "cell_type": "code",
   "execution_count": 21,
   "metadata": {},
   "outputs": [],
   "source": [
    "from Playing_card_detection.utils.exception import CustomException\n",
    "from Playing_card_detection.utils.logger import logger\n",
    "from Playing_card_detection.utils.common import read_for_yolo,save_yaml,read_yaml_file\n",
    "from Playing_card_detection.constants import *\n",
    "\n",
    "class ModelTrainer:\n",
    "    def __init__(self,config:ModelTrainerConfig,config_filepath = CONFIG_FILEPATH):\n",
    "        self.config = config\n",
    "        self.data_ingestion_config = read_yaml_file(config_filepath).data_ingestion\n",
    "\n",
    "    def __clone_repository__(self):\n",
    "        os.system(\"git clone https://github.com/ultralytics/yolov5.git\")\n",
    "\n",
    "    def __get_num_classes__(self):\n",
    "        nc = read_for_yolo(self.config.dataset_yaml_file,check = \"nc\")\n",
    "        return nc\n",
    "    \n",
    "    def __custom_yaml_for_yolo__(self,model_name,nc):\n",
    "        yolo_config = read_for_yolo(f\"yolov5/models/{model_name}.yaml\")\n",
    "        yolo_config['nc'] = nc\n",
    "\n",
    "        save_yaml(f\"yolov5/models/custom_{model_name}.yaml\",yolo_config)\n",
    "        logger.info(\"Successfully saved Custom Yolo Config\")\n",
    "    \n",
    "    def train(self):\n",
    "        num_classes = self.__get_num_classes__()\n",
    "        print(num_classes)\n",
    "        logger.info(\"Got the Number of Classes\")\n",
    "\n",
    "        if not \"yolov5\" in os.listdir(os.getcwd()):\n",
    "            self.__clone_repository__()\n",
    "            logger.info(\"Cloned Yolov5 Repoisitory\")\n",
    "        else:\n",
    "            logger.info(\"Already Cloned Yolov5 Repoisitory\")\n",
    "\n",
    "        model_name = self.config.pretrained_model_weight_name.split(\".\")[0]\n",
    "        self.__custom_yaml_for_yolo__(model_name = model_name,nc = num_classes)\n",
    "\n",
    "        ##>>>>>>>>>>>>>>>>>>>>>>> Use Git Bash for following Commands <<<<<<<<<<<<<<<<<<<<<<<<<<<<<\n",
    "\n",
    "        os.system(f\"cp {self.data_ingestion_config.local_data_file} {os.getcwd()}\")## Copying Zip to main directory\n",
    "        os.system(f\"unzip data.zip\")\n",
    "\n",
    "        os.system(f\"cd yolov5/ && python train.p    y --img 416 --batch {self.config.BATCH_SIZE} --epochs {self.config.EPOCHS} --data ../data.yaml --cfg ./model/custom_{model_name}.yaml --weights {self.config.pretrained_model_weight_name} --name {model_name}_results --cache\")\n",
    "        logger.info(\"Training Completed\")\n",
    "        \n",
    "        os.system(f\"cp yolov5/runs/train/{model_name}_results/weights/best.pt yolov5/\") ## Copy best.pt to yolov5 directory\n",
    "        os.system(f\"cp yolov5/runs/train/{model_name}_results/weights/best.pt {self.config.root_dir}\")\n",
    "        logger.info(\"Copied Weights To Artifacts\")\n",
    "\n",
    "        os.system(\"rm -rf test\")\n",
    "        os.system(\"rm -rf train\")\n",
    "        os.system(\"rm -rf valid\")\n",
    "        os.system(\"rm -rf data.yaml\")\n",
    "        os.system(\"rm -rf data.zip\")\n",
    "        os.system(\"rm -rf yolov5/runs\")\n"
   ]
  },
  {
   "cell_type": "code",
   "execution_count": 23,
   "metadata": {},
   "outputs": [
    {
     "name": "stdout",
     "output_type": "stream",
     "text": [
      "52\n",
      "[ 2024-01-12 10:13:06,714 ] - 28 - 4095685097 - Got the Number of Classes\n",
      "[ 2024-01-12 10:13:06,716 ] - 34 - 4095685097 - Already Cloned Yolov5 Repoisitory\n"
     ]
    },
    {
     "name": "stdout",
     "output_type": "stream",
     "text": [
      "[ 2024-01-12 10:13:06,832 ] - 23 - 4095685097 - Successfully saved Custom Yolo Config\n",
      "[ 2024-01-12 10:13:51,494 ] - 45 - 4095685097 - Training Completed\n"
     ]
    }
   ],
   "source": [
    "import sys\n",
    "try:\n",
    "    config = ConfigurationManager()\n",
    "    model_trainer_config = config.get_model_trainer_config()\n",
    "    model_trainer = ModelTrainer(model_trainer_config)\n",
    "    model_trainer.train()\n",
    "except Exception as e:\n",
    "    raise CustomException(e,sys)"
   ]
  },
  {
   "cell_type": "code",
   "execution_count": null,
   "metadata": {},
   "outputs": [],
   "source": []
  }
 ],
 "metadata": {
  "kernelspec": {
   "display_name": "Python 3",
   "language": "python",
   "name": "python3"
  },
  "language_info": {
   "codemirror_mode": {
    "name": "ipython",
    "version": 3
   },
   "file_extension": ".py",
   "mimetype": "text/x-python",
   "name": "python",
   "nbconvert_exporter": "python",
   "pygments_lexer": "ipython3",
   "version": "3.7.16"
  }
 },
 "nbformat": 4,
 "nbformat_minor": 2
}
